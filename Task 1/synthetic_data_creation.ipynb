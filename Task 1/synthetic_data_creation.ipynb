{
 "cells": [
  {
   "cell_type": "code",
   "execution_count": 1,
   "id": "0192d07c",
   "metadata": {},
   "outputs": [],
   "source": [
    "import pickle\n",
    "from imblearn.over_sampling import SMOTE"
   ]
  },
  {
   "cell_type": "code",
   "execution_count": 2,
   "id": "5a41860b",
   "metadata": {},
   "outputs": [],
   "source": [
    "import pandas as pd\n",
    "import numpy as np"
   ]
  },
  {
   "cell_type": "markdown",
   "id": "25e6996e",
   "metadata": {},
   "source": [
    "### load dataset"
   ]
  },
  {
   "cell_type": "code",
   "execution_count": 33,
   "id": "cb2e6cee",
   "metadata": {},
   "outputs": [],
   "source": [
    "train = np.load(\"train_task1.pkl\",allow_pickle = True)\n",
    "train = pd.DataFrame(train)"
   ]
  },
  {
   "cell_type": "markdown",
   "id": "987f16aa",
   "metadata": {},
   "source": [
    "### undersample \"non-business owner\" cases"
   ]
  },
  {
   "cell_type": "code",
   "execution_count": 34,
   "id": "dffe3ab8",
   "metadata": {},
   "outputs": [],
   "source": [
    "def undersampler(target0_x, train):\n",
    "    train = train.copy()\n",
    "    sample_amount = train[train.label == 1].shape[0]*target0_x\n",
    "    data1 = train[train.label == 0]\n",
    "    data1 = data1.sample(n = sample_amount)\n",
    "    data2 = train[train.label == 1]\n",
    "    data = pd.concat([data1,data2])\n",
    "    data = data.sample(frac=1)\n",
    "    train_y = data[\"label\"]\n",
    "    train_x = data.drop(columns = [\"label\"])\n",
    "    print(data.shape)\n",
    "    return train_x, train_y\n",
    "    \n",
    "    \n",
    "    \n",
    "    \n",
    "    "
   ]
  },
  {
   "cell_type": "code",
   "execution_count": 35,
   "id": "7d03f0ce",
   "metadata": {},
   "outputs": [
    {
     "name": "stdout",
     "output_type": "stream",
     "text": [
      "(282510, 114)\n"
     ]
    }
   ],
   "source": [
    "train_x,train_y = undersampler(5,train)"
   ]
  },
  {
   "cell_type": "markdown",
   "id": "7d826a95",
   "metadata": {},
   "source": [
    "### smote fittin"
   ]
  },
  {
   "cell_type": "raw",
   "id": "d8770b06",
   "metadata": {},
   "source": [
    "smote = SMOTE(sampling_strategy='minority')\n",
    "train_x, train_y = smote.fit_sample(train_x, train_y)\n",
    "\n",
    "train_y.value_counts()"
   ]
  },
  {
   "cell_type": "code",
   "execution_count": 39,
   "id": "d773a784",
   "metadata": {},
   "outputs": [
    {
     "data": {
      "text/plain": [
       "(470850, 113)"
      ]
     },
     "execution_count": 39,
     "metadata": {},
     "output_type": "execute_result"
    }
   ],
   "source": [
    "train_x.shape"
   ]
  },
  {
   "cell_type": "code",
   "execution_count": 40,
   "id": "258316d0",
   "metadata": {},
   "outputs": [],
   "source": [
    "train_data = pd.concat([train_x,train_y], axis = 1)"
   ]
  },
  {
   "cell_type": "code",
   "execution_count": 43,
   "id": "bc0866b8",
   "metadata": {},
   "outputs": [],
   "source": [
    "train.to_pickle(\"train_task1_smote.pkl\")"
   ]
  },
  {
   "cell_type": "code",
   "execution_count": null,
   "id": "21561ede",
   "metadata": {},
   "outputs": [],
   "source": []
  }
 ],
 "metadata": {
  "kernelspec": {
   "display_name": "Python 3 (ipykernel)",
   "language": "python",
   "name": "python3"
  },
  "language_info": {
   "codemirror_mode": {
    "name": "ipython",
    "version": 3
   },
   "file_extension": ".py",
   "mimetype": "text/x-python",
   "name": "python",
   "nbconvert_exporter": "python",
   "pygments_lexer": "ipython3",
   "version": "3.9.13"
  }
 },
 "nbformat": 4,
 "nbformat_minor": 5
}
