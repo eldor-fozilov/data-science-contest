{
 "cells": [
  {
   "cell_type": "markdown",
   "metadata": {
    "colab_type": "text",
    "id": "view-in-github"
   },
   "source": [
    "<a href=\"https://colab.research.google.com/github/eldor-fozilov/data-science-contest/blob/main/Task_1/Task_1_models.ipynb\" target=\"_parent\"><img src=\"https://colab.research.google.com/assets/colab-badge.svg\" alt=\"Open In Colab\"/></a>"
   ]
  },
  {
   "cell_type": "code",
   "execution_count": 1,
   "metadata": {
    "id": "7kpFssv5snH5"
   },
   "outputs": [],
   "source": [
    "path = \"/content/drive/MyDrive/Colab Notebooks/College/data-science comp/\""
   ]
  },
  {
   "cell_type": "code",
   "execution_count": 7,
   "metadata": {
    "colab": {
     "base_uri": "https://localhost:8080/"
    },
    "id": "jnqtMaqss1hr",
    "outputId": "0e3690d3-6208-4f55-9ad9-1557b8cfaeb7",
    "scrolled": true
   },
   "outputs": [
    {
     "name": "stdout",
     "output_type": "stream",
     "text": [
      "Number of small business owners:  47085\n",
      "Number of Non-small business owners:  672914\n"
     ]
    }
   ],
   "source": [
    "!python models.py"
   ]
  },
  {
   "cell_type": "code",
   "execution_count": null,
   "metadata": {
    "colab": {
     "base_uri": "https://localhost:8080/",
     "height": 356
    },
    "id": "JIGAD06Osjl3",
    "outputId": "8751cb5f-0f91-4423-bea2-285347095b09"
   },
   "outputs": [],
   "source": [
    "import models\n",
    "from models import train, test_data, NeuralNet\n",
    "\n",
    "NeuralNetCls = NeuralNet(train[0], test_data)"
   ]
  },
  {
   "cell_type": "code",
   "execution_count": 11,
   "metadata": {
    "colab": {
     "base_uri": "https://localhost:8080/"
    },
    "id": "EFx-ZMcWs4b6",
    "outputId": "73b693a5-c765-47c7-a637-b8a462821078"
   },
   "outputs": [
    {
     "name": "stdout",
     "output_type": "stream",
     "text": [
      "\u001b[?2004h\u001b7\u001b[?47h\u001b[?1h\u001b=\u001b[?2004h\u001b[1;24r\u001b[?12h\u001b[?12l\u001b[29m\u001b[m\u001b[H\u001b[2J\u001b[?25l\u001b[24;1H\"models.py\" [noeol][dos] 175L, 6189C\u001b[2;1H▽\u001b[6n\u001b[2;1H  \u001b[1;1H\u001b[>c\u001b]10;?\u0007\u001b]11;?\u0007\u001b[1;1H\u001b[35mimport\u001b[m pandas \u001b[33mas\u001b[m pd\r\n",
      "\u001b[35mfrom\u001b[m sklearn.preprocessing \u001b[35mimport\u001b[m StandardScaler\r\n",
      "\u001b[35mfrom\u001b[m sklearn.ensemble \u001b[35mimport\u001b[m RandomForestClassifier\r\n",
      "\u001b[35mfrom\u001b[m sklearn.model_selection \u001b[35mimport\u001b[m RandomizedSearchCV\r\n",
      "\u001b[35mfrom\u001b[m sklearn.metrics \u001b[35mimport\u001b[m confusion_matrix, accuracy_score, classification_repp\u001b[6;1Hort\r\n",
      "\u001b[35mimport\u001b[m numpy \u001b[33mas\u001b[m np\r\n",
      "\u001b[35mfrom\u001b[m xgboost \u001b[35mimport\u001b[m XGBClassifier\r\n",
      "\u001b[35mfrom\u001b[m tensorflow.keras.models \u001b[35mimport\u001b[m Sequential\r\n",
      "\u001b[35mfrom\u001b[m tensorflow.keras.layers \u001b[35mimport\u001b[m Dense, Dropout\r\n",
      "\u001b[35mfrom\u001b[m tensorflow.keras.optimizers \u001b[35mimport\u001b[m Adam\r\n",
      "\r\n",
      "path = \u001b[31m\"/content/drive/MyDrive/Colab Notebooks/College/data-science comp/\"\u001b[m\r\n",
      "\r\n",
      "\u001b[34m# Read the data\u001b[m\r\n",
      "train_data = pd.read_pickle(path + \u001b[31m\"train_task1.pkl\"\u001b[m)\r\n",
      "test_data = pd.read_pickle(path + \u001b[31m\"test_task1.pkl\"\u001b[m)\r\n",
      "\r\n",
      "train = []\r\n",
      "\r\n",
      "label1 = train_data[train_data[\u001b[31m'label'\u001b[m] == \u001b[31m1\u001b[m] \u001b[34m# small business owner\u001b[m\n",
      "label0 = train_data[train_data[\u001b[31m'label'\u001b[m] == \u001b[31m0\u001b[m] \u001b[34m# Non-small business owner\u001b[m\u001b[24;63H1,1\u001b[11CTop\u001b[1;1H\u001b[?25h\u001b[24;1H\u001b[?2004l\u001b[?1l\u001b>\u001b[2J\u001b[?47l\u001b8Vim: Caught deadly signal TERM\n",
      "\n",
      "Vim: Finished.\n",
      "\u001b[24;1H^C\n"
     ]
    }
   ],
   "source": [
    "!vim models.py"
   ]
  },
  {
   "cell_type": "code",
   "execution_count": 13,
   "metadata": {
    "colab": {
     "base_uri": "https://localhost:8080/"
    },
    "id": "my4EuOFWtLu7",
    "outputId": "6a200c81-98bf-4fb0-ed55-34474e4f3c47"
   },
   "outputs": [
    {
     "data": {
      "text/plain": [
       "(47085, 137)"
      ]
     },
     "execution_count": 13,
     "metadata": {},
     "output_type": "execute_result"
    }
   ],
   "source": [
    "train[0][train[0][\"label\"] == 0].shape"
   ]
  },
  {
   "cell_type": "code",
   "execution_count": 14,
   "metadata": {
    "colab": {
     "base_uri": "https://localhost:8080/"
    },
    "id": "Oy6CiWws4Q__",
    "outputId": "92b0513b-67ee-49a8-f701-d0d7cad0ba99"
   },
   "outputs": [
    {
     "data": {
      "text/plain": [
       "(47085, 137)"
      ]
     },
     "execution_count": 14,
     "metadata": {},
     "output_type": "execute_result"
    }
   ],
   "source": [
    "train[0][train[0][\"label\"] == 1].shape"
   ]
  },
  {
   "cell_type": "code",
   "execution_count": 16,
   "metadata": {
    "colab": {
     "base_uri": "https://localhost:8080/"
    },
    "id": "ug11yy3U4azy",
    "outputId": "0ce1ae7f-5a52-4ec5-c2f6-2077af6e5a9e"
   },
   "outputs": [
    {
     "data": {
      "text/plain": [
       "(5232, 137)"
      ]
     },
     "execution_count": 16,
     "metadata": {},
     "output_type": "execute_result"
    }
   ],
   "source": [
    "test_data[test_data[\"label\"] == 1].shape"
   ]
  },
  {
   "cell_type": "code",
   "execution_count": 17,
   "metadata": {
    "colab": {
     "base_uri": "https://localhost:8080/"
    },
    "id": "9rVOv8Jq42gt",
    "outputId": "a677f097-4f77-4664-8a92-e9ace29ad198"
   },
   "outputs": [
    {
     "data": {
      "text/plain": [
       "(74769, 137)"
      ]
     },
     "execution_count": 17,
     "metadata": {},
     "output_type": "execute_result"
    }
   ],
   "source": [
    "test_data[test_data[\"label\"] == 0].shape"
   ]
  },
  {
   "cell_type": "code",
   "execution_count": 37,
   "metadata": {
    "id": "XXx8FPqH4_RQ"
   },
   "outputs": [],
   "source": [
    "import pandas as pd\n",
    "from sklearn.preprocessing import StandardScaler\n",
    "from sklearn.ensemble import RandomForestClassifier\n",
    "from sklearn.model_selection import RandomizedSearchCV\n",
    "from sklearn.metrics import confusion_matrix, accuracy_score, classification_report\n",
    "import numpy as np\n",
    "# from xgboost import XGBClassifier\n",
    "from tensorflow.keras.models import Sequential\n",
    "from tensorflow.keras.layers import Dense, Dropout\n",
    "from tensorflow.keras.optimizers import Adam\n",
    "\n",
    "# Neural Network\n",
    "def NeuralNet(train_data, test_data):\n",
    "    # Split the data\n",
    "    X_train = train_data.drop(['label'], axis=1)\n",
    "    y_train = train_data['label']\n",
    "    X_test = test_data.drop(['label'], axis=1)\n",
    "    y_test = test_data['label']\n",
    "\n",
    "    # Scale the data\n",
    "    scaler = StandardScaler()\n",
    "    X_train = scaler.fit_transform(X_train)\n",
    "    X_test = scaler.transform(X_test)\n",
    "\n",
    "    # Create the model\n",
    "    model = Sequential()\n",
    "    model.add(Dense(128, input_dim=X_train.shape[1], activation='relu'))\n",
    "    model.add(Dense(64, activation='relu'))\n",
    "    model.add(Dense(32, activation='relu'))\n",
    "    model.add(Dense(16, activation='relu'))\n",
    "    model.add(Dense(1, activation='sigmoid'))\n",
    "\n",
    "    # Compile the model\n",
    "    model.compile(loss='binary_crossentropy', optimizer='adam', metrics=['accuracy'])\n",
    "\n",
    "    # Fit the model\n",
    "    model.fit(X_train, y_train, epochs=100, batch_size=256)\n",
    "\n",
    "    # Predict the test data\n",
    "    y_pred = model.predict(X_test)\n",
    "    y_pred = np.where(y_pred_ > 0.5, 1, 0)\n",
    "    # Print the results\n",
    "    print(\"Confusion Matrix: \", confusion_matrix(y_test, y_pred))\n",
    "    print(\"Accuracy: \", accuracy_score(y_test, y_pred))\n",
    "    print(\"Classification Report: \", classification_report(y_test, y_pred))\n",
    "\n",
    "    return model"
   ]
  },
  {
   "cell_type": "code",
   "execution_count": null,
   "metadata": {
    "colab": {
     "base_uri": "https://localhost:8080/"
    },
    "id": "qP1nHIDY55b5",
    "outputId": "c66da9f1-c994-4c57-efc4-6b08d7b38bf7"
   },
   "outputs": [],
   "source": [
    "NeuralNetCls = NeuralNet(train[0], test_data)"
   ]
  },
  {
   "cell_type": "code",
   "execution_count": 25,
   "metadata": {
    "id": "GthaqEfr6CVr"
   },
   "outputs": [],
   "source": [
    "# Split the data\n",
    "X_train = train[0].drop(['label'], axis=1)\n",
    "y_train = train[0]['label']\n",
    "X_test = test_data.drop(['label'], axis=1)\n",
    "y_test = test_data['label']\n",
    "\n",
    "# Scale the data\n",
    "scaler = StandardScaler()\n",
    "X_train = scaler.fit_transform(X_train)\n",
    "X_test = scaler.transform(X_test)"
   ]
  },
  {
   "cell_type": "code",
   "execution_count": 30,
   "metadata": {
    "colab": {
     "base_uri": "https://localhost:8080/"
    },
    "id": "HKZh7apm6woJ",
    "outputId": "b5ba0a0d-bc86-4e5a-dab9-a588c15f3d1d"
   },
   "outputs": [
    {
     "name": "stdout",
     "output_type": "stream",
     "text": [
      "2501/2501 [==============================] - 4s 2ms/step\n"
     ]
    }
   ],
   "source": [
    "y_pred_ = NeuralNetCls.predict(X_test)"
   ]
  },
  {
   "cell_type": "code",
   "execution_count": 35,
   "metadata": {
    "id": "CMsvnhGw7GoT"
   },
   "outputs": [],
   "source": [
    "y_pred = np.where(y_pred_ > 0.5, 1, 0)"
   ]
  },
  {
   "cell_type": "code",
   "execution_count": 36,
   "metadata": {
    "colab": {
     "base_uri": "https://localhost:8080/"
    },
    "id": "f3tLdVWP7M9A",
    "outputId": "7728e67d-065a-4c7b-874b-f9da0ca4084f"
   },
   "outputs": [
    {
     "name": "stdout",
     "output_type": "stream",
     "text": [
      "Confusion Matrix:  [[54107 20662]\n",
      " [ 1103  4129]]\n",
      "Accuracy:  0.7279409007387407\n",
      "Classification Report:                precision    recall  f1-score   support\n",
      "\n",
      "           0       0.98      0.72      0.83     74769\n",
      "           1       0.17      0.79      0.28      5232\n",
      "\n",
      "    accuracy                           0.73     80001\n",
      "   macro avg       0.57      0.76      0.55     80001\n",
      "weighted avg       0.93      0.73      0.80     80001\n",
      "\n"
     ]
    }
   ],
   "source": [
    "print(\"Confusion Matrix: \", confusion_matrix(y_test, y_pred))\n",
    "print(\"Accuracy: \", accuracy_score(y_test, y_pred))\n",
    "print(\"Classification Report: \", classification_report(y_test, y_pred))"
   ]
  },
  {
   "cell_type": "code",
   "execution_count": null,
   "metadata": {
    "colab": {
     "base_uri": "https://localhost:8080/"
    },
    "id": "O4mxIYd-8QGd",
    "outputId": "b3d396fe-5e84-419a-c5a7-e2f40d4ee708"
   },
   "outputs": [],
   "source": [
    "NN_models = []\n",
    "\n",
    "for training_data in train:\n",
    "    NeuralNetCls = NeuralNet(training_data, test_data)\n",
    "    NN_models.append(NeuralNetCls)"
   ]
  },
  {
   "cell_type": "code",
   "execution_count": 56,
   "metadata": {
    "id": "Q1QjtRxQ9yQX"
   },
   "outputs": [],
   "source": [
    "from sklearn.utils import shuffle\n",
    "def predictions(train_data, test_data, models, threshold):\n",
    "    train_data = shuffle(train_data)\n",
    "    X_train = train_data.drop(['label'], axis=1)\n",
    "    y_train = train_data['label']\n",
    "    X_test = test_data.drop(['label'], axis=1)\n",
    "    y_test = test_data['label']\n",
    "\n",
    "    # Scale the data\n",
    "    scaler = StandardScaler()\n",
    "    X_train = scaler.fit_transform(X_train)\n",
    "    X_test = scaler.transform(X_test)\n",
    "\n",
    "    prediction_list = []\n",
    "\n",
    "    for model in models:\n",
    "    y_pred = model.predict(X_test)\n",
    "    prediction_list.append(y_pred)\n",
    "\n",
    "    prediction = np.mean(prediction_list, axis = 0)\n",
    "    y_pred = np.where(y_pred >= threshold, 1, 0)\n",
    "\n",
    "    # Print the results\n",
    "    print(\"Confusion Matrix: \", confusion_matrix(y_test, y_pred))\n",
    "    tn, fp, fn, tp = confusion_matrix(y_test, y_pred).ravel()\n",
    "    print(\"True Positive: \", tp)\n",
    "    print(\"True Negetive: \", tn)\n",
    "    print(\"False Positive: \", fp)\n",
    "    print(\"False Negative: \", fn)\n",
    "    print(\"Accuracy: \", accuracy_score(y_test, y_pred))\n",
    "    print(\"Classification Report: \", classification_report(y_test, y_pred))\n",
    "    return y_test, prediction\n"
   ]
  },
  {
   "cell_type": "code",
   "execution_count": 57,
   "metadata": {
    "colab": {
     "base_uri": "https://localhost:8080/"
    },
    "id": "yUwB2a57HmrV",
    "outputId": "32b8f762-3471-49b0-c9be-b3cd107d41ae"
   },
   "outputs": [
    {
     "name": "stdout",
     "output_type": "stream",
     "text": [
      "2501/2501 [==============================] - 4s 2ms/step\n",
      "2501/2501 [==============================] - 4s 1ms/step\n",
      "2501/2501 [==============================] - 4s 1ms/step\n",
      "2501/2501 [==============================] - 4s 1ms/step\n",
      "2501/2501 [==============================] - 4s 1ms/step\n",
      "2501/2501 [==============================] - 4s 1ms/step\n",
      "2501/2501 [==============================] - 4s 1ms/step\n",
      "2501/2501 [==============================] - 5s 2ms/step\n",
      "2501/2501 [==============================] - 4s 2ms/step\n",
      "2501/2501 [==============================] - 4s 1ms/step\n",
      "2501/2501 [==============================] - 4s 1ms/step\n",
      "2501/2501 [==============================] - 4s 1ms/step\n",
      "2501/2501 [==============================] - 4s 1ms/step\n",
      "2501/2501 [==============================] - 4s 2ms/step\n",
      "Confusion Matrix:  [[64896  9873]\n",
      " [ 2586  2646]]\n",
      "True Positive:  2646\n",
      "True Negetive:  64896\n",
      "False Positive:  9873\n",
      "False Negative:  2586\n",
      "Accuracy:  0.8442644466944164\n",
      "Classification Report:                precision    recall  f1-score   support\n",
      "\n",
      "           0       0.96      0.87      0.91     74769\n",
      "           1       0.21      0.51      0.30      5232\n",
      "\n",
      "    accuracy                           0.84     80001\n",
      "   macro avg       0.59      0.69      0.61     80001\n",
      "weighted avg       0.91      0.84      0.87     80001\n",
      "\n"
     ]
    },
    {
     "data": {
      "text/plain": [
       "(80001, 1)"
      ]
     },
     "execution_count": 57,
     "metadata": {},
     "output_type": "execute_result"
    }
   ],
   "source": [
    "y_test, pred = predictions(train[0], test_data, NN_models, 0.85)\n",
    "pred.shape"
   ]
  },
  {
   "cell_type": "code",
   "execution_count": 64,
   "metadata": {
    "id": "mOpJXti2JdR1"
   },
   "outputs": [],
   "source": [
    "from sklearn import metrics\n",
    "fpr, tpr, thresholds = metrics.roc_curve(y_test, pred)"
   ]
  },
  {
   "cell_type": "code",
   "execution_count": 63,
   "metadata": {
    "colab": {
     "base_uri": "https://localhost:8080/"
    },
    "id": "gt_7NCWQPmJ-",
    "outputId": "c1fab385-0e2f-40f9-9f2c-b4b6652ef525"
   },
   "outputs": [
    {
     "data": {
      "text/plain": [
       "0.875615453190117"
      ]
     },
     "execution_count": 63,
     "metadata": {},
     "output_type": "execute_result"
    }
   ],
   "source": [
    "metrics.roc_auc_score(y_test, pred)"
   ]
  },
  {
   "cell_type": "code",
   "execution_count": 66,
   "metadata": {
    "colab": {
     "base_uri": "https://localhost:8080/",
     "height": 282
    },
    "id": "ORT5PWhnPoiT",
    "outputId": "0f12b6d5-173a-4c8f-f46c-cbc186bd4616"
   },
   "outputs": [
    {
     "data": {
      "text/plain": [
       "[<matplotlib.lines.Line2D at 0x7fad322f6d10>]"
      ]
     },
     "execution_count": 66,
     "metadata": {},
     "output_type": "execute_result"
    },
    {
     "data": {
      "image/png": "[encoded data removed]",
      "text/plain": [
       "<Figure size 432x288 with 1 Axes>"
      ]
     },
     "metadata": {
      "needs_background": "light"
     },
     "output_type": "display_data"
    }
   ],
   "source": [
    "import matplotlib.pyplot as plt\n",
    "auc = round(metrics.roc_auc_score(y_test, y_pred), 4)\n",
    "plt.plot(fpr,tpr,label=\"Neural Network, AUC=\"+str(auc))"
   ]
  },
  {
   "cell_type": "code",
   "execution_count": null,
   "metadata": {
    "id": "g6BVUFRNQx9n"
   },
   "outputs": [],
   "source": []
  }
 ],
 "metadata": {
  "accelerator": "GPU",
  "colab": {
   "authorship_tag": "ABX9TyOMLOoamtjurq7fQcdtHx0C",
   "include_colab_link": true,
   "mount_file_id": "14PLJZIXOlDmLrL6f4GlQomTNcUHOyuea",
   "provenance": []
  },
  "gpuClass": "standard",
  "kernelspec": {
   "display_name": "Python 3 (ipykernel)",
   "language": "python",
   "name": "python3"
  },
  "language_info": {
   "codemirror_mode": {
    "name": "ipython",
    "version": 3
   },
   "file_extension": ".py",
   "mimetype": "text/x-python",
   "name": "python",
   "nbconvert_exporter": "python",
   "pygments_lexer": "ipython3",
   "version": "3.9.13"
  }
 },
 "nbformat": 4,
 "nbformat_minor": 1
}
