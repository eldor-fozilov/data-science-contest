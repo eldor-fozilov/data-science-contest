{
 "cells": [
  {
   "cell_type": "code",
   "execution_count": 1,
   "metadata": {},
   "outputs": [],
   "source": [
    "import warnings\n",
    "warnings.filterwarnings('ignore')\n",
    "\n",
    "import pandas as pd\n",
    "from sklearn.preprocessing import StandardScaler\n",
    "from sklearn.ensemble import RandomForestClassifier\n",
    "from sklearn.model_selection import RandomizedSearchCV\n",
    "from sklearn.metrics import confusion_matrix, accuracy_score, classification_report\n",
    "import numpy as np\n",
    "\n",
    "from tensorflow.keras.models import Sequential\n",
    "import tensorflow_addons as tfa\n",
    "import tensorflow as tf\n",
    "from tensorflow.keras.layers import Dense, Dropout\n",
    "from keras.callbacks import ModelCheckpoint\n",
    "from sklearn.metrics import average_precision_score, roc_auc_score\n",
    "from sklearn import metrics\n",
    "from sklearn.utils import shuffle\n",
    "from tqdm import tqdm"
   ]
  },
  {
   "cell_type": "code",
   "execution_count": 14,
   "metadata": {},
   "outputs": [
    {
     "name": "stdout",
     "output_type": "stream",
     "text": [
      "Number of small business owners:  47085\n",
      "Number of Non-small business owners:  672914\n"
     ]
    },
    {
     "name": "stderr",
     "output_type": "stream",
     "text": [
      "100%|██████████| 14/14 [00:00<00:00, 40.21it/s]\n"
     ]
    }
   ],
   "source": [
    "path = \"\"\n",
    "\n",
    "# Read the data\n",
    "train_data = pd.read_pickle(path + \"train_task1.pkl\")\n",
    "test_data = pd.read_pickle(path + \"test_task1.pkl\")\n",
    "\n",
    "train = []\n",
    "\n",
    "label1 = train_data[train_data['label'] == 1] # small business owner\n",
    "label0 = train_data[train_data['label'] == 0] # Non-small business owner\n",
    "\n",
    "print(\"Number of small business owners: \", len(label1))\n",
    "print(\"Number of Non-small business owners: \", len(label0))\n",
    "\n",
    "loc = 0\n",
    "for i in tqdm(range(14)):\n",
    "    if i != 13:\n",
    "        label0_ = label0[loc:loc + label1.shape[0]]\n",
    "        loc += label1.shape[0]\n",
    "        train.append(pd.concat([label1, label0_]))\n",
    "    else:\n",
    "        label0_ = label0[loc:]\n",
    "        loc += label1.shape[0]\n",
    "        train.append(pd.concat([label1, label0_]))\n"
   ]
  },
  {
   "cell_type": "code",
   "execution_count": 15,
   "metadata": {},
   "outputs": [
    {
     "data": {
      "text/plain": [
       "Index(['pay day login counts', 'pay day login with money transfer counts',\n",
       "       'pay day login duration counts', 'c_week1', 'c_week2', 'c_week3',\n",
       "       'c_week4', 'c_week5', 'c_week6', 'c_week7',\n",
       "       ...\n",
       "       'region_code_9', 'region_code_10', 'region_code_11', 'region_code_12',\n",
       "       'region_code_13', 'region_code_14', 'region_code_15', 'region_code_16',\n",
       "       'region_code_17', 'region_code_18'],\n",
       "      dtype='object', length=140)"
      ]
     },
     "execution_count": 15,
     "metadata": {},
     "output_type": "execute_result"
    }
   ],
   "source": [
    "train_data.columns"
   ]
  },
  {
   "cell_type": "code",
   "execution_count": 22,
   "metadata": {},
   "outputs": [
    {
     "name": "stdout",
     "output_type": "stream",
     "text": [
      "(716730, 143)\n",
      "(716730, 143)\n"
     ]
    }
   ],
   "source": [
    "train_data[\"total logins\"] = 0\n",
    "train_data[\"total logins with transfer\"] = 0\n",
    "test_data[\"total logins with transfer\"] = 0\n",
    "train_data[\"total logins duration\"] = 0\n",
    "test_data[\"total logins duration\"] = 0\n",
    "\n",
    "for col in train_data.columns:\n",
    "    if \"c_\" in col:\n",
    "        train_data[\"total logins\"] += train_data[col]\n",
    "\n",
    "for col in train_data.columns:\n",
    "    if \"s_\" in col: \n",
    "        train_data[\"total logins with transfer\"] += train_data[col]\n",
    "        test_data[\"total logins with transfer\"] += test_data[col]\n",
    "\n",
    "for col in train_data.columns:\n",
    "    if \"t_\" in col: \n",
    "        train_data[\"total logins duration\"] += train_data[col]\n",
    "        test_data[\"total logins duration\"] += test_data[col]\n",
    "\n",
    "print(train_data.shape)\n",
    "train_data = train_data[train_data[\"total logins\"] != 0]\n",
    "print(train_data.shape)"
   ]
  },
  {
   "cell_type": "code",
   "execution_count": 23,
   "metadata": {},
   "outputs": [
    {
     "data": {
      "text/html": [
       "<div>\n",
       "<style scoped>\n",
       "    .dataframe tbody tr th:only-of-type {\n",
       "        vertical-align: middle;\n",
       "    }\n",
       "\n",
       "    .dataframe tbody tr th {\n",
       "        vertical-align: top;\n",
       "    }\n",
       "\n",
       "    .dataframe thead th {\n",
       "        text-align: right;\n",
       "    }\n",
       "</style>\n",
       "<table border=\"1\" class=\"dataframe\">\n",
       "  <thead>\n",
       "    <tr style=\"text-align: right;\">\n",
       "      <th></th>\n",
       "      <th>total logins</th>\n",
       "      <th>total logins with transfer</th>\n",
       "      <th>total logins duration</th>\n",
       "      <th>label</th>\n",
       "    </tr>\n",
       "  </thead>\n",
       "  <tbody>\n",
       "    <tr>\n",
       "      <th>total logins</th>\n",
       "      <td>1.000000</td>\n",
       "      <td>0.713689</td>\n",
       "      <td>0.751361</td>\n",
       "      <td>0.217239</td>\n",
       "    </tr>\n",
       "    <tr>\n",
       "      <th>total logins with transfer</th>\n",
       "      <td>0.713689</td>\n",
       "      <td>1.000000</td>\n",
       "      <td>0.661368</td>\n",
       "      <td>0.207604</td>\n",
       "    </tr>\n",
       "    <tr>\n",
       "      <th>total logins duration</th>\n",
       "      <td>0.751361</td>\n",
       "      <td>0.661368</td>\n",
       "      <td>1.000000</td>\n",
       "      <td>0.270116</td>\n",
       "    </tr>\n",
       "    <tr>\n",
       "      <th>label</th>\n",
       "      <td>0.217239</td>\n",
       "      <td>0.207604</td>\n",
       "      <td>0.270116</td>\n",
       "      <td>1.000000</td>\n",
       "    </tr>\n",
       "  </tbody>\n",
       "</table>\n",
       "</div>"
      ],
      "text/plain": [
       "                            total logins  total logins with transfer  \\\n",
       "total logins                    1.000000                    0.713689   \n",
       "total logins with transfer      0.713689                    1.000000   \n",
       "total logins duration           0.751361                    0.661368   \n",
       "label                           0.217239                    0.207604   \n",
       "\n",
       "                            total logins duration     label  \n",
       "total logins                             0.751361  0.217239  \n",
       "total logins with transfer               0.661368  0.207604  \n",
       "total logins duration                    1.000000  0.270116  \n",
       "label                                    0.270116  1.000000  "
      ]
     },
     "execution_count": 23,
     "metadata": {},
     "output_type": "execute_result"
    }
   ],
   "source": [
    "train_data[[\"total logins\", \"total logins with transfer\", \"total logins duration\", \"label\"]].corr()"
   ]
  },
  {
   "cell_type": "code",
   "execution_count": 3,
   "metadata": {},
   "outputs": [],
   "source": [
    "def Find_Optimal_Cutoff(target, predicted):\n",
    "    \"\"\" Find the optimal probability cutoff point for a classification model related to event rate\n",
    "    Parameters\n",
    "    ----------\n",
    "    target : Matrix with dependent or target data, where rows are observations\n",
    "\n",
    "    predicted : Matrix with predicted data, where rows are observations\n",
    "\n",
    "    Returns\n",
    "    -------     \n",
    "    list type, with optimal cutoff value\n",
    "        \n",
    "    \"\"\"\n",
    "    fpr, tpr, threshold = metrics.roc_curve(target, predicted)\n",
    "    i = np.arange(len(tpr)) \n",
    "    roc = pd.DataFrame({'tf' : pd.Series(tpr-(1-fpr), index=i), 'threshold' : pd.Series(threshold, index=i)})\n",
    "    roc_t = roc.iloc[(roc.tf-0).abs().argsort()[:1]]\n",
    "\n",
    "    return list(roc_t['threshold']) \n"
   ]
  },
  {
   "cell_type": "code",
   "execution_count": 11,
   "metadata": {},
   "outputs": [],
   "source": [
    "# Neural Network\n",
    "def NeuralNet_pred(train_data, test_data):\n",
    "    # Split the data\n",
    "    train_data = shuffle(train_data)\n",
    "    X_train = train_data.drop(['label'], axis=1)\n",
    "    y_train = train_data['label']\n",
    "    X_test = test_data.drop(['label'], axis=1)\n",
    "    y_test = test_data['label']\n",
    "\n",
    "    # Scale the data\n",
    "    scaler = StandardScaler()\n",
    "    X_train = scaler.fit_transform(X_train)\n",
    "    X_test = scaler.transform(X_test)\n",
    "\n",
    "    # Create the model\n",
    "    model = Sequential()\n",
    "    model.add(Dense(128, input_dim=X_train.shape[1], activation='selu'))\n",
    "    model.add(Dense(64, activation='gelu'))\n",
    "    model.add(Dense(32, activation='selu'))\n",
    "    model.add(Dense(16, activation='gelu'))\n",
    "    model.add(Dense(1, activation='sigmoid'))\n",
    "\n",
    "\n",
    "    # Compile model\n",
    "    LEARNING_RATE = 0.0001\n",
    "    WEIGHT_DECAY = 0.0001\n",
    "    \n",
    "\n",
    "    optimizer = tfa.optimizers.AdamW(\n",
    "        learning_rate=LEARNING_RATE, weight_decay=WEIGHT_DECAY\n",
    "    )\n",
    "\n",
    "\n",
    "    # Compile the model\n",
    "    model.compile(\n",
    "        optimizer=optimizer,\n",
    "        loss=tf.keras.losses.BinaryCrossentropy(),\n",
    "        metrics=[tf.keras.metrics.AUC(name=\"PR AUC\", curve='PR')],\n",
    "    )\n",
    "\n",
    "    preds = []\n",
    "    for i in tqdm(range(1, 15)):\n",
    "        model.load_weights(f\"models_with_payday_info_dropout/model{i}\")\n",
    "        # Predict the test data\n",
    "        pred = model.predict(X_test)\n",
    "        preds.append(pred)\n",
    "    \n",
    "    preds = np.mean(preds, axis=0)\n",
    "\n",
    "\n",
    "    print(f\"PR AUC: {average_precision_score(y_test, preds)}\")\n",
    "    print(f\"ROC AUC: {roc_auc_score(y_test, preds)}\")\n",
    "    print(\"Threshold: \", Find_Optimal_Cutoff(y_test, preds))\n",
    "    y_pred = np.where(preds > Find_Optimal_Cutoff(y_test, preds)[0], 1, 0)\n",
    "    print(f\"Accuracy: {accuracy_score(y_test, y_pred)}\")\n",
    "    print(f\"Confusion Matrix: {confusion_matrix(y_test, y_pred)}\")\n",
    "    print(f\"Classification Report: {classification_report(y_test, y_pred)}\")\n",
    "    \n",
    "    return y_test, preds"
   ]
  },
  {
   "cell_type": "code",
   "execution_count": 12,
   "metadata": {},
   "outputs": [
    {
     "name": "stderr",
     "output_type": "stream",
     "text": [
      "  0%|          | 0/14 [00:00<?, ?it/s]"
     ]
    },
    {
     "name": "stdout",
     "output_type": "stream",
     "text": [
      "WARNING:tensorflow:Inconsistent references when loading the checkpoint into this object graph. Either the Trackable object references in the Python program have changed in an incompatible way, or the checkpoint was generated in an incompatible program.\n",
      "\n",
      "Two checkpoint references resolved to different objects (<keras.layers.core.dense.Dense object at 0x000001DCB347E280> and <keras.layers.core.dense.Dense object at 0x000001DCBB84ECA0>).\n",
      "WARNING:tensorflow:Inconsistent references when loading the checkpoint into this object graph. Either the Trackable object references in the Python program have changed in an incompatible way, or the checkpoint was generated in an incompatible program.\n",
      "\n",
      "Two checkpoint references resolved to different objects (<keras.layers.core.dense.Dense object at 0x000001DCBB84ECA0> and <keras.layers.core.dense.Dense object at 0x000001DCBB8617C0>).\n",
      "WARNING:tensorflow:Inconsistent references when loading the checkpoint into this object graph. Either the Trackable object references in the Python program have changed in an incompatible way, or the checkpoint was generated in an incompatible program.\n",
      "\n",
      "Two checkpoint references resolved to different objects (<keras.layers.core.dense.Dense object at 0x000001DCBB8617C0> and <keras.layers.core.dense.Dense object at 0x000001DCBB857310>).\n"
     ]
    },
    {
     "name": "stderr",
     "output_type": "stream",
     "text": [
      "  7%|▋         | 1/14 [00:03<00:40,  3.10s/it]"
     ]
    },
    {
     "name": "stdout",
     "output_type": "stream",
     "text": [
      "WARNING:tensorflow:Inconsistent references when loading the checkpoint into this object graph. Either the Trackable object references in the Python program have changed in an incompatible way, or the checkpoint was generated in an incompatible program.\n",
      "\n",
      "Two checkpoint references resolved to different objects (<keras.layers.core.dense.Dense object at 0x000001DCB347E280> and <keras.layers.core.dense.Dense object at 0x000001DCBB84ECA0>).\n",
      "WARNING:tensorflow:Inconsistent references when loading the checkpoint into this object graph. Either the Trackable object references in the Python program have changed in an incompatible way, or the checkpoint was generated in an incompatible program.\n",
      "\n",
      "Two checkpoint references resolved to different objects (<keras.layers.core.dense.Dense object at 0x000001DCBB84ECA0> and <keras.layers.core.dense.Dense object at 0x000001DCBB8617C0>).\n",
      "WARNING:tensorflow:Inconsistent references when loading the checkpoint into this object graph. Either the Trackable object references in the Python program have changed in an incompatible way, or the checkpoint was generated in an incompatible program.\n",
      "\n",
      "Two checkpoint references resolved to different objects (<keras.layers.core.dense.Dense object at 0x000001DCBB8617C0> and <keras.layers.core.dense.Dense object at 0x000001DCBB857310>).\n"
     ]
    },
    {
     "name": "stderr",
     "output_type": "stream",
     "text": [
      " 14%|█▍        | 2/14 [00:06<00:36,  3.06s/it]"
     ]
    },
    {
     "name": "stdout",
     "output_type": "stream",
     "text": [
      "WARNING:tensorflow:Inconsistent references when loading the checkpoint into this object graph. Either the Trackable object references in the Python program have changed in an incompatible way, or the checkpoint was generated in an incompatible program.\n",
      "\n",
      "Two checkpoint references resolved to different objects (<keras.layers.core.dense.Dense object at 0x000001DCB347E280> and <keras.layers.core.dense.Dense object at 0x000001DCBB84ECA0>).\n",
      "WARNING:tensorflow:Inconsistent references when loading the checkpoint into this object graph. Either the Trackable object references in the Python program have changed in an incompatible way, or the checkpoint was generated in an incompatible program.\n",
      "\n",
      "Two checkpoint references resolved to different objects (<keras.layers.core.dense.Dense object at 0x000001DCBB84ECA0> and <keras.layers.core.dense.Dense object at 0x000001DCBB8617C0>).\n",
      "WARNING:tensorflow:Inconsistent references when loading the checkpoint into this object graph. Either the Trackable object references in the Python program have changed in an incompatible way, or the checkpoint was generated in an incompatible program.\n",
      "\n",
      "Two checkpoint references resolved to different objects (<keras.layers.core.dense.Dense object at 0x000001DCBB8617C0> and <keras.layers.core.dense.Dense object at 0x000001DCBB857310>).\n"
     ]
    },
    {
     "name": "stderr",
     "output_type": "stream",
     "text": [
      " 21%|██▏       | 3/14 [00:09<00:34,  3.15s/it]"
     ]
    },
    {
     "name": "stdout",
     "output_type": "stream",
     "text": [
      "WARNING:tensorflow:Inconsistent references when loading the checkpoint into this object graph. Either the Trackable object references in the Python program have changed in an incompatible way, or the checkpoint was generated in an incompatible program.\n",
      "\n",
      "Two checkpoint references resolved to different objects (<keras.layers.core.dense.Dense object at 0x000001DCB347E280> and <keras.layers.core.dense.Dense object at 0x000001DCBB84ECA0>).\n",
      "WARNING:tensorflow:Inconsistent references when loading the checkpoint into this object graph. Either the Trackable object references in the Python program have changed in an incompatible way, or the checkpoint was generated in an incompatible program.\n",
      "\n",
      "Two checkpoint references resolved to different objects (<keras.layers.core.dense.Dense object at 0x000001DCBB84ECA0> and <keras.layers.core.dense.Dense object at 0x000001DCBB8617C0>).\n",
      "WARNING:tensorflow:Inconsistent references when loading the checkpoint into this object graph. Either the Trackable object references in the Python program have changed in an incompatible way, or the checkpoint was generated in an incompatible program.\n",
      "\n",
      "Two checkpoint references resolved to different objects (<keras.layers.core.dense.Dense object at 0x000001DCBB8617C0> and <keras.layers.core.dense.Dense object at 0x000001DCBB857310>).\n"
     ]
    },
    {
     "name": "stderr",
     "output_type": "stream",
     "text": [
      " 29%|██▊       | 4/14 [00:12<00:30,  3.05s/it]"
     ]
    },
    {
     "name": "stdout",
     "output_type": "stream",
     "text": [
      "WARNING:tensorflow:Inconsistent references when loading the checkpoint into this object graph. Either the Trackable object references in the Python program have changed in an incompatible way, or the checkpoint was generated in an incompatible program.\n",
      "\n",
      "Two checkpoint references resolved to different objects (<keras.layers.core.dense.Dense object at 0x000001DCB347E280> and <keras.layers.core.dense.Dense object at 0x000001DCBB84ECA0>).\n",
      "WARNING:tensorflow:Inconsistent references when loading the checkpoint into this object graph. Either the Trackable object references in the Python program have changed in an incompatible way, or the checkpoint was generated in an incompatible program.\n",
      "\n",
      "Two checkpoint references resolved to different objects (<keras.layers.core.dense.Dense object at 0x000001DCBB84ECA0> and <keras.layers.core.dense.Dense object at 0x000001DCBB8617C0>).\n",
      "WARNING:tensorflow:Inconsistent references when loading the checkpoint into this object graph. Either the Trackable object references in the Python program have changed in an incompatible way, or the checkpoint was generated in an incompatible program.\n",
      "\n",
      "Two checkpoint references resolved to different objects (<keras.layers.core.dense.Dense object at 0x000001DCBB8617C0> and <keras.layers.core.dense.Dense object at 0x000001DCBB857310>).\n"
     ]
    },
    {
     "name": "stderr",
     "output_type": "stream",
     "text": [
      " 36%|███▌      | 5/14 [00:15<00:27,  3.03s/it]"
     ]
    },
    {
     "name": "stdout",
     "output_type": "stream",
     "text": [
      "WARNING:tensorflow:Inconsistent references when loading the checkpoint into this object graph. Either the Trackable object references in the Python program have changed in an incompatible way, or the checkpoint was generated in an incompatible program.\n",
      "\n",
      "Two checkpoint references resolved to different objects (<keras.layers.core.dense.Dense object at 0x000001DCB347E280> and <keras.layers.core.dense.Dense object at 0x000001DCBB84ECA0>).\n",
      "WARNING:tensorflow:Inconsistent references when loading the checkpoint into this object graph. Either the Trackable object references in the Python program have changed in an incompatible way, or the checkpoint was generated in an incompatible program.\n",
      "\n",
      "Two checkpoint references resolved to different objects (<keras.layers.core.dense.Dense object at 0x000001DCBB84ECA0> and <keras.layers.core.dense.Dense object at 0x000001DCBB8617C0>).\n",
      "WARNING:tensorflow:Inconsistent references when loading the checkpoint into this object graph. Either the Trackable object references in the Python program have changed in an incompatible way, or the checkpoint was generated in an incompatible program.\n",
      "\n",
      "Two checkpoint references resolved to different objects (<keras.layers.core.dense.Dense object at 0x000001DCBB8617C0> and <keras.layers.core.dense.Dense object at 0x000001DCBB857310>).\n"
     ]
    },
    {
     "name": "stderr",
     "output_type": "stream",
     "text": [
      " 43%|████▎     | 6/14 [00:18<00:23,  2.99s/it]"
     ]
    },
    {
     "name": "stdout",
     "output_type": "stream",
     "text": [
      "WARNING:tensorflow:Inconsistent references when loading the checkpoint into this object graph. Either the Trackable object references in the Python program have changed in an incompatible way, or the checkpoint was generated in an incompatible program.\n",
      "\n",
      "Two checkpoint references resolved to different objects (<keras.layers.core.dense.Dense object at 0x000001DCB347E280> and <keras.layers.core.dense.Dense object at 0x000001DCBB84ECA0>).\n",
      "WARNING:tensorflow:Inconsistent references when loading the checkpoint into this object graph. Either the Trackable object references in the Python program have changed in an incompatible way, or the checkpoint was generated in an incompatible program.\n",
      "\n",
      "Two checkpoint references resolved to different objects (<keras.layers.core.dense.Dense object at 0x000001DCBB84ECA0> and <keras.layers.core.dense.Dense object at 0x000001DCBB8617C0>).\n",
      "WARNING:tensorflow:Inconsistent references when loading the checkpoint into this object graph. Either the Trackable object references in the Python program have changed in an incompatible way, or the checkpoint was generated in an incompatible program.\n",
      "\n",
      "Two checkpoint references resolved to different objects (<keras.layers.core.dense.Dense object at 0x000001DCBB8617C0> and <keras.layers.core.dense.Dense object at 0x000001DCBB857310>).\n"
     ]
    },
    {
     "name": "stderr",
     "output_type": "stream",
     "text": [
      " 50%|█████     | 7/14 [00:21<00:21,  3.05s/it]"
     ]
    },
    {
     "name": "stdout",
     "output_type": "stream",
     "text": [
      "WARNING:tensorflow:Inconsistent references when loading the checkpoint into this object graph. Either the Trackable object references in the Python program have changed in an incompatible way, or the checkpoint was generated in an incompatible program.\n",
      "\n",
      "Two checkpoint references resolved to different objects (<keras.layers.core.dense.Dense object at 0x000001DCB347E280> and <keras.layers.core.dense.Dense object at 0x000001DCBB84ECA0>).\n",
      "WARNING:tensorflow:Inconsistent references when loading the checkpoint into this object graph. Either the Trackable object references in the Python program have changed in an incompatible way, or the checkpoint was generated in an incompatible program.\n",
      "\n",
      "Two checkpoint references resolved to different objects (<keras.layers.core.dense.Dense object at 0x000001DCBB84ECA0> and <keras.layers.core.dense.Dense object at 0x000001DCBB8617C0>).\n",
      "WARNING:tensorflow:Inconsistent references when loading the checkpoint into this object graph. Either the Trackable object references in the Python program have changed in an incompatible way, or the checkpoint was generated in an incompatible program.\n",
      "\n",
      "Two checkpoint references resolved to different objects (<keras.layers.core.dense.Dense object at 0x000001DCBB8617C0> and <keras.layers.core.dense.Dense object at 0x000001DCBB857310>).\n"
     ]
    },
    {
     "name": "stderr",
     "output_type": "stream",
     "text": [
      " 57%|█████▋    | 8/14 [00:24<00:17,  2.98s/it]"
     ]
    },
    {
     "name": "stdout",
     "output_type": "stream",
     "text": [
      "WARNING:tensorflow:Inconsistent references when loading the checkpoint into this object graph. Either the Trackable object references in the Python program have changed in an incompatible way, or the checkpoint was generated in an incompatible program.\n",
      "\n",
      "Two checkpoint references resolved to different objects (<keras.layers.core.dense.Dense object at 0x000001DCB347E280> and <keras.layers.core.dense.Dense object at 0x000001DCBB84ECA0>).\n",
      "WARNING:tensorflow:Inconsistent references when loading the checkpoint into this object graph. Either the Trackable object references in the Python program have changed in an incompatible way, or the checkpoint was generated in an incompatible program.\n",
      "\n",
      "Two checkpoint references resolved to different objects (<keras.layers.core.dense.Dense object at 0x000001DCBB84ECA0> and <keras.layers.core.dense.Dense object at 0x000001DCBB8617C0>).\n",
      "WARNING:tensorflow:Inconsistent references when loading the checkpoint into this object graph. Either the Trackable object references in the Python program have changed in an incompatible way, or the checkpoint was generated in an incompatible program.\n",
      "\n",
      "Two checkpoint references resolved to different objects (<keras.layers.core.dense.Dense object at 0x000001DCBB8617C0> and <keras.layers.core.dense.Dense object at 0x000001DCBB857310>).\n"
     ]
    },
    {
     "name": "stderr",
     "output_type": "stream",
     "text": [
      " 64%|██████▍   | 9/14 [00:27<00:14,  3.00s/it]"
     ]
    },
    {
     "name": "stdout",
     "output_type": "stream",
     "text": [
      "WARNING:tensorflow:Inconsistent references when loading the checkpoint into this object graph. Either the Trackable object references in the Python program have changed in an incompatible way, or the checkpoint was generated in an incompatible program.\n",
      "\n",
      "Two checkpoint references resolved to different objects (<keras.layers.core.dense.Dense object at 0x000001DCB347E280> and <keras.layers.core.dense.Dense object at 0x000001DCBB84ECA0>).\n",
      "WARNING:tensorflow:Inconsistent references when loading the checkpoint into this object graph. Either the Trackable object references in the Python program have changed in an incompatible way, or the checkpoint was generated in an incompatible program.\n",
      "\n",
      "Two checkpoint references resolved to different objects (<keras.layers.core.dense.Dense object at 0x000001DCBB84ECA0> and <keras.layers.core.dense.Dense object at 0x000001DCBB8617C0>).\n",
      "WARNING:tensorflow:Inconsistent references when loading the checkpoint into this object graph. Either the Trackable object references in the Python program have changed in an incompatible way, or the checkpoint was generated in an incompatible program.\n",
      "\n",
      "Two checkpoint references resolved to different objects (<keras.layers.core.dense.Dense object at 0x000001DCBB8617C0> and <keras.layers.core.dense.Dense object at 0x000001DCBB857310>).\n"
     ]
    },
    {
     "name": "stderr",
     "output_type": "stream",
     "text": [
      " 71%|███████▏  | 10/14 [00:30<00:11,  2.98s/it]"
     ]
    },
    {
     "name": "stdout",
     "output_type": "stream",
     "text": [
      "WARNING:tensorflow:Inconsistent references when loading the checkpoint into this object graph. Either the Trackable object references in the Python program have changed in an incompatible way, or the checkpoint was generated in an incompatible program.\n",
      "\n",
      "Two checkpoint references resolved to different objects (<keras.layers.core.dense.Dense object at 0x000001DCB347E280> and <keras.layers.core.dense.Dense object at 0x000001DCBB84ECA0>).\n",
      "WARNING:tensorflow:Inconsistent references when loading the checkpoint into this object graph. Either the Trackable object references in the Python program have changed in an incompatible way, or the checkpoint was generated in an incompatible program.\n",
      "\n",
      "Two checkpoint references resolved to different objects (<keras.layers.core.dense.Dense object at 0x000001DCBB84ECA0> and <keras.layers.core.dense.Dense object at 0x000001DCBB8617C0>).\n",
      "WARNING:tensorflow:Inconsistent references when loading the checkpoint into this object graph. Either the Trackable object references in the Python program have changed in an incompatible way, or the checkpoint was generated in an incompatible program.\n",
      "\n",
      "Two checkpoint references resolved to different objects (<keras.layers.core.dense.Dense object at 0x000001DCBB8617C0> and <keras.layers.core.dense.Dense object at 0x000001DCBB857310>).\n"
     ]
    },
    {
     "name": "stderr",
     "output_type": "stream",
     "text": [
      " 79%|███████▊  | 11/14 [00:33<00:08,  2.95s/it]"
     ]
    },
    {
     "name": "stdout",
     "output_type": "stream",
     "text": [
      "WARNING:tensorflow:Inconsistent references when loading the checkpoint into this object graph. Either the Trackable object references in the Python program have changed in an incompatible way, or the checkpoint was generated in an incompatible program.\n",
      "\n",
      "Two checkpoint references resolved to different objects (<keras.layers.core.dense.Dense object at 0x000001DCB347E280> and <keras.layers.core.dense.Dense object at 0x000001DCBB84ECA0>).\n",
      "WARNING:tensorflow:Inconsistent references when loading the checkpoint into this object graph. Either the Trackable object references in the Python program have changed in an incompatible way, or the checkpoint was generated in an incompatible program.\n",
      "\n",
      "Two checkpoint references resolved to different objects (<keras.layers.core.dense.Dense object at 0x000001DCBB84ECA0> and <keras.layers.core.dense.Dense object at 0x000001DCBB8617C0>).\n",
      "WARNING:tensorflow:Inconsistent references when loading the checkpoint into this object graph. Either the Trackable object references in the Python program have changed in an incompatible way, or the checkpoint was generated in an incompatible program.\n",
      "\n",
      "Two checkpoint references resolved to different objects (<keras.layers.core.dense.Dense object at 0x000001DCBB8617C0> and <keras.layers.core.dense.Dense object at 0x000001DCBB857310>).\n"
     ]
    },
    {
     "name": "stderr",
     "output_type": "stream",
     "text": [
      " 86%|████████▌ | 12/14 [00:36<00:05,  2.98s/it]"
     ]
    },
    {
     "name": "stdout",
     "output_type": "stream",
     "text": [
      "WARNING:tensorflow:Inconsistent references when loading the checkpoint into this object graph. Either the Trackable object references in the Python program have changed in an incompatible way, or the checkpoint was generated in an incompatible program.\n",
      "\n",
      "Two checkpoint references resolved to different objects (<keras.layers.core.dense.Dense object at 0x000001DCB347E280> and <keras.layers.core.dense.Dense object at 0x000001DCBB84ECA0>).\n",
      "WARNING:tensorflow:Inconsistent references when loading the checkpoint into this object graph. Either the Trackable object references in the Python program have changed in an incompatible way, or the checkpoint was generated in an incompatible program.\n",
      "\n",
      "Two checkpoint references resolved to different objects (<keras.layers.core.dense.Dense object at 0x000001DCBB84ECA0> and <keras.layers.core.dense.Dense object at 0x000001DCBB8617C0>).\n",
      "WARNING:tensorflow:Inconsistent references when loading the checkpoint into this object graph. Either the Trackable object references in the Python program have changed in an incompatible way, or the checkpoint was generated in an incompatible program.\n",
      "\n",
      "Two checkpoint references resolved to different objects (<keras.layers.core.dense.Dense object at 0x000001DCBB8617C0> and <keras.layers.core.dense.Dense object at 0x000001DCBB857310>).\n"
     ]
    },
    {
     "name": "stderr",
     "output_type": "stream",
     "text": [
      " 93%|█████████▎| 13/14 [00:39<00:03,  3.01s/it]"
     ]
    },
    {
     "name": "stdout",
     "output_type": "stream",
     "text": [
      "WARNING:tensorflow:Inconsistent references when loading the checkpoint into this object graph. Either the Trackable object references in the Python program have changed in an incompatible way, or the checkpoint was generated in an incompatible program.\n",
      "\n",
      "Two checkpoint references resolved to different objects (<keras.layers.core.dense.Dense object at 0x000001DCB347E280> and <keras.layers.core.dense.Dense object at 0x000001DCBB84ECA0>).\n",
      "WARNING:tensorflow:Inconsistent references when loading the checkpoint into this object graph. Either the Trackable object references in the Python program have changed in an incompatible way, or the checkpoint was generated in an incompatible program.\n",
      "\n",
      "Two checkpoint references resolved to different objects (<keras.layers.core.dense.Dense object at 0x000001DCBB84ECA0> and <keras.layers.core.dense.Dense object at 0x000001DCBB8617C0>).\n",
      "WARNING:tensorflow:Inconsistent references when loading the checkpoint into this object graph. Either the Trackable object references in the Python program have changed in an incompatible way, or the checkpoint was generated in an incompatible program.\n",
      "\n",
      "Two checkpoint references resolved to different objects (<keras.layers.core.dense.Dense object at 0x000001DCBB8617C0> and <keras.layers.core.dense.Dense object at 0x000001DCBB857310>).\n"
     ]
    },
    {
     "name": "stderr",
     "output_type": "stream",
     "text": [
      "100%|██████████| 14/14 [00:42<00:00,  3.01s/it]\n"
     ]
    },
    {
     "name": "stdout",
     "output_type": "stream",
     "text": [
      "PR AUC: 0.3029021474111073\n",
      "ROC AUC: 0.8152537580784494\n",
      "Threshold:  [5.839669463073828e-24]\n",
      "Accuracy: 0.7383407707403657\n",
      "Confusion Matrix: [[55206 19563]\n",
      " [ 1370  3862]]\n",
      "Classification Report:               precision    recall  f1-score   support\n",
      "\n",
      "           0       0.98      0.74      0.84     74769\n",
      "           1       0.16      0.74      0.27      5232\n",
      "\n",
      "    accuracy                           0.74     80001\n",
      "   macro avg       0.57      0.74      0.56     80001\n",
      "weighted avg       0.92      0.74      0.80     80001\n",
      "\n"
     ]
    }
   ],
   "source": [
    "y_test, preds = NeuralNet_pred(train[0], test_data)"
   ]
  },
  {
   "cell_type": "code",
   "execution_count": 18,
   "metadata": {},
   "outputs": [
    {
     "data": {
      "text/html": [
       "<div>\n",
       "<style scoped>\n",
       "    .dataframe tbody tr th:only-of-type {\n",
       "        vertical-align: middle;\n",
       "    }\n",
       "\n",
       "    .dataframe tbody tr th {\n",
       "        vertical-align: top;\n",
       "    }\n",
       "\n",
       "    .dataframe thead th {\n",
       "        text-align: right;\n",
       "    }\n",
       "</style>\n",
       "<table border=\"1\" class=\"dataframe\">\n",
       "  <thead>\n",
       "    <tr style=\"text-align: right;\">\n",
       "      <th></th>\n",
       "      <th>c_week1</th>\n",
       "      <th>c_week2</th>\n",
       "      <th>c_week3</th>\n",
       "      <th>c_week4</th>\n",
       "      <th>c_week5</th>\n",
       "      <th>c_week6</th>\n",
       "      <th>c_week7</th>\n",
       "      <th>c_week8</th>\n",
       "      <th>c_week9</th>\n",
       "      <th>c_week10</th>\n",
       "      <th>...</th>\n",
       "      <th>region_code_9</th>\n",
       "      <th>region_code_10</th>\n",
       "      <th>region_code_11</th>\n",
       "      <th>region_code_12</th>\n",
       "      <th>region_code_13</th>\n",
       "      <th>region_code_14</th>\n",
       "      <th>region_code_15</th>\n",
       "      <th>region_code_16</th>\n",
       "      <th>region_code_17</th>\n",
       "      <th>region_code_18</th>\n",
       "    </tr>\n",
       "  </thead>\n",
       "  <tbody>\n",
       "    <tr>\n",
       "      <th>36</th>\n",
       "      <td>0.714286</td>\n",
       "      <td>0.714286</td>\n",
       "      <td>0.714286</td>\n",
       "      <td>1.571429</td>\n",
       "      <td>2.571429</td>\n",
       "      <td>0.285714</td>\n",
       "      <td>0.571429</td>\n",
       "      <td>1.714286</td>\n",
       "      <td>1.857143</td>\n",
       "      <td>1.285714</td>\n",
       "      <td>...</td>\n",
       "      <td>0</td>\n",
       "      <td>0</td>\n",
       "      <td>0</td>\n",
       "      <td>0</td>\n",
       "      <td>0</td>\n",
       "      <td>0</td>\n",
       "      <td>0</td>\n",
       "      <td>0</td>\n",
       "      <td>0</td>\n",
       "      <td>0</td>\n",
       "    </tr>\n",
       "    <tr>\n",
       "      <th>49</th>\n",
       "      <td>0.428571</td>\n",
       "      <td>1.428571</td>\n",
       "      <td>0.000000</td>\n",
       "      <td>0.142857</td>\n",
       "      <td>0.285714</td>\n",
       "      <td>0.285714</td>\n",
       "      <td>0.428571</td>\n",
       "      <td>0.571429</td>\n",
       "      <td>0.000000</td>\n",
       "      <td>0.285714</td>\n",
       "      <td>...</td>\n",
       "      <td>0</td>\n",
       "      <td>0</td>\n",
       "      <td>0</td>\n",
       "      <td>0</td>\n",
       "      <td>0</td>\n",
       "      <td>0</td>\n",
       "      <td>0</td>\n",
       "      <td>0</td>\n",
       "      <td>0</td>\n",
       "      <td>0</td>\n",
       "    </tr>\n",
       "    <tr>\n",
       "      <th>90</th>\n",
       "      <td>0.000000</td>\n",
       "      <td>0.000000</td>\n",
       "      <td>0.000000</td>\n",
       "      <td>0.000000</td>\n",
       "      <td>0.000000</td>\n",
       "      <td>0.000000</td>\n",
       "      <td>0.000000</td>\n",
       "      <td>0.000000</td>\n",
       "      <td>0.000000</td>\n",
       "      <td>1.428571</td>\n",
       "      <td>...</td>\n",
       "      <td>0</td>\n",
       "      <td>0</td>\n",
       "      <td>0</td>\n",
       "      <td>0</td>\n",
       "      <td>0</td>\n",
       "      <td>0</td>\n",
       "      <td>0</td>\n",
       "      <td>0</td>\n",
       "      <td>0</td>\n",
       "      <td>0</td>\n",
       "    </tr>\n",
       "    <tr>\n",
       "      <th>111</th>\n",
       "      <td>1.571429</td>\n",
       "      <td>1.285714</td>\n",
       "      <td>0.714286</td>\n",
       "      <td>1.571429</td>\n",
       "      <td>1.285714</td>\n",
       "      <td>1.142857</td>\n",
       "      <td>2.000000</td>\n",
       "      <td>1.000000</td>\n",
       "      <td>2.714286</td>\n",
       "      <td>1.857143</td>\n",
       "      <td>...</td>\n",
       "      <td>0</td>\n",
       "      <td>0</td>\n",
       "      <td>0</td>\n",
       "      <td>0</td>\n",
       "      <td>0</td>\n",
       "      <td>0</td>\n",
       "      <td>0</td>\n",
       "      <td>0</td>\n",
       "      <td>0</td>\n",
       "      <td>0</td>\n",
       "    </tr>\n",
       "    <tr>\n",
       "      <th>134</th>\n",
       "      <td>5.142857</td>\n",
       "      <td>4.857143</td>\n",
       "      <td>2.714286</td>\n",
       "      <td>2.285714</td>\n",
       "      <td>2.142857</td>\n",
       "      <td>2.000000</td>\n",
       "      <td>3.000000</td>\n",
       "      <td>1.857143</td>\n",
       "      <td>2.714286</td>\n",
       "      <td>4.000000</td>\n",
       "      <td>...</td>\n",
       "      <td>0</td>\n",
       "      <td>0</td>\n",
       "      <td>0</td>\n",
       "      <td>0</td>\n",
       "      <td>0</td>\n",
       "      <td>0</td>\n",
       "      <td>0</td>\n",
       "      <td>0</td>\n",
       "      <td>0</td>\n",
       "      <td>0</td>\n",
       "    </tr>\n",
       "  </tbody>\n",
       "</table>\n",
       "<p>5 rows × 137 columns</p>\n",
       "</div>"
      ],
      "text/plain": [
       "      c_week1   c_week2   c_week3   c_week4   c_week5   c_week6   c_week7  \\\n",
       "36   0.714286  0.714286  0.714286  1.571429  2.571429  0.285714  0.571429   \n",
       "49   0.428571  1.428571  0.000000  0.142857  0.285714  0.285714  0.428571   \n",
       "90   0.000000  0.000000  0.000000  0.000000  0.000000  0.000000  0.000000   \n",
       "111  1.571429  1.285714  0.714286  1.571429  1.285714  1.142857  2.000000   \n",
       "134  5.142857  4.857143  2.714286  2.285714  2.142857  2.000000  3.000000   \n",
       "\n",
       "      c_week8   c_week9  c_week10  ...  region_code_9  region_code_10  \\\n",
       "36   1.714286  1.857143  1.285714  ...              0               0   \n",
       "49   0.571429  0.000000  0.285714  ...              0               0   \n",
       "90   0.000000  0.000000  1.428571  ...              0               0   \n",
       "111  1.000000  2.714286  1.857143  ...              0               0   \n",
       "134  1.857143  2.714286  4.000000  ...              0               0   \n",
       "\n",
       "     region_code_11  region_code_12  region_code_13  region_code_14  \\\n",
       "36                0               0               0               0   \n",
       "49                0               0               0               0   \n",
       "90                0               0               0               0   \n",
       "111               0               0               0               0   \n",
       "134               0               0               0               0   \n",
       "\n",
       "     region_code_15  region_code_16  region_code_17  region_code_18  \n",
       "36                0               0               0               0  \n",
       "49                0               0               0               0  \n",
       "90                0               0               0               0  \n",
       "111               0               0               0               0  \n",
       "134               0               0               0               0  \n",
       "\n",
       "[5 rows x 137 columns]"
      ]
     },
     "execution_count": 18,
     "metadata": {},
     "output_type": "execute_result"
    }
   ],
   "source": [
    "train[0].head()"
   ]
  },
  {
   "cell_type": "code",
   "execution_count": null,
   "metadata": {},
   "outputs": [],
   "source": []
  }
 ],
 "metadata": {
  "kernelspec": {
   "display_name": "Python 3.9.13 ('idp')",
   "language": "python",
   "name": "python3"
  },
  "language_info": {
   "codemirror_mode": {
    "name": "ipython",
    "version": 3
   },
   "file_extension": ".py",
   "mimetype": "text/x-python",
   "name": "python",
   "nbconvert_exporter": "python",
   "pygments_lexer": "ipython3",
   "version": "3.9.13"
  },
  "orig_nbformat": 4,
  "vscode": {
   "interpreter": {
    "hash": "cb4a3a5e1b3dbae7a45fb0a311a565107b36abd81e5544d9d1b824757f428aa3"
   }
  }
 },
 "nbformat": 4,
 "nbformat_minor": 2
}
